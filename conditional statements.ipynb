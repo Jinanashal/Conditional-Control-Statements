{
 "cells": [
  {
   "cell_type": "code",
   "execution_count": 2,
   "id": "55649842-9ae3-4242-91a2-5b60a0abddfe",
   "metadata": {},
   "outputs": [
    {
     "name": "stdout",
     "output_type": "stream",
     "text": [
      " you are eligible to vote\n"
     ]
    }
   ],
   "source": [
    "#simple if statement - if condotion true\n",
    "age=18\n",
    "if age>=18:\n",
    "    print(\" you are eligible to vote\")"
   ]
  },
  {
   "cell_type": "code",
   "execution_count": 8,
   "id": "4a6ae863-766f-4efd-8807-43c6fad0c5df",
   "metadata": {},
   "outputs": [],
   "source": [
    "#simple if statement - if condotion false\n",
    "age=18\n",
    "if age>18:\n",
    "    print(\" you are eligible to vote\")"
   ]
  },
  {
   "cell_type": "code",
   "execution_count": 7,
   "id": "3483bc81-d935-461a-b756-641762154416",
   "metadata": {},
   "outputs": [
    {
     "name": "stdout",
     "output_type": "stream",
     "text": [
      "you are not eligible to vite\n"
     ]
    }
   ],
   "source": [
    "# if else statement  \n",
    "age=18\n",
    "if age>18:\n",
    "    print(\" you are eligible to vote\")\n",
    "else:\n",
    "    print(\"you are not eligible to vite\")\n",
    "    "
   ]
  },
  {
   "cell_type": "code",
   "execution_count": 9,
   "id": "48d84a8d-56b9-459a-8190-251c818708cf",
   "metadata": {},
   "outputs": [
    {
     "name": "stdout",
     "output_type": "stream",
     "text": [
      " you are eligible to vote\n"
     ]
    }
   ],
   "source": [
    "age=20\n",
    "if age>18:\n",
    "    print(\" you are eligible to vote\")\n",
    "else:\n",
    "    print(\"you are not eligible to vite\")\n",
    "    "
   ]
  },
  {
   "cell_type": "code",
   "execution_count": 14,
   "id": "0893fb98-97a2-4b24-8280-2bd059af278d",
   "metadata": {},
   "outputs": [
    {
     "name": "stdin",
     "output_type": "stream",
     "text": [
      "enter the age 77\n"
     ]
    },
    {
     "name": "stdout",
     "output_type": "stream",
     "text": [
      " you are eligible to vote\n"
     ]
    }
   ],
   "source": [
    "#fetching input from the user to check the condition\n",
    "age=int(input(\"enter the age\"))\n",
    "if age>18:\n",
    "    print(\" you are eligible to vote\")\n",
    "else:\n",
    "    print(\"you are not eligible to vite\")\n",
    "    "
   ]
  },
  {
   "cell_type": "code",
   "execution_count": 18,
   "id": "db383d9e-e94d-496b-816f-58a4cb982ea4",
   "metadata": {},
   "outputs": [
    {
     "name": "stdin",
     "output_type": "stream",
     "text": [
      "enter your age 43\n"
     ]
    },
    {
     "name": "stdout",
     "output_type": "stream",
     "text": [
      "iam an adult\n"
     ]
    }
   ],
   "source": [
    "#elif ladder\n",
    "age=int(input(\"enter your age\"))\n",
    "if age<18:\n",
    "    print(\" iam minner\")\n",
    "elif age>60:\n",
    "    print(\"iam senior\")\n",
    "else:\n",
    "    print(\"iam an adult\")"
   ]
  },
  {
   "cell_type": "code",
   "execution_count": 21,
   "id": "dc71b22e-28e8-4f92-bb1f-cacd39dd0070",
   "metadata": {},
   "outputs": [
    {
     "name": "stdin",
     "output_type": "stream",
     "text": [
      "enter your mark 76\n"
     ]
    },
    {
     "name": "stdout",
     "output_type": "stream",
     "text": [
      "B\n"
     ]
    }
   ],
   "source": [
    "# else if ladder conditions \n",
    "mark=int(input(\"enter your mark\"))\n",
    "if mark>=90:\n",
    "    print(\"A\")\n",
    "elif mark>=75:\n",
    "    print(\"B\")\n",
    "elif mark>=65:\n",
    "    print(\"C\")\n",
    "elif mark>=55:\n",
    "    print(\"E\")\n",
    "else:\n",
    "    print(\"f\")\n",
    "         "
   ]
  },
  {
   "cell_type": "code",
   "execution_count": 3,
   "id": "fc9848cb-fa52-4880-93b8-ab8e4682f947",
   "metadata": {},
   "outputs": [
    {
     "name": "stdout",
     "output_type": "stream",
     "text": [
      "you can vote\n"
     ]
    }
   ],
   "source": [
    "#nested if statement\n",
    "age=20\n",
    "voter_id=True\n",
    "if age>=18:\n",
    "    if voter_id:\n",
    "        print(\"you can vote\")\n",
    "    else: \n",
    "        print(\"you need a votter id to vote\")\n",
    "else:\n",
    "   (\"you are minor\")"
   ]
  },
  {
   "cell_type": "code",
   "execution_count": 4,
   "id": "b81bb245-07d5-49cd-82ae-8dd7828f74cd",
   "metadata": {},
   "outputs": [
    {
     "name": "stdin",
     "output_type": "stream",
     "text": [
      "enter your age 4\n",
      "do you have voter_id False\n"
     ]
    }
   ],
   "source": [
    "age=int(input(\"enter your age\"))\n",
    "voter_id=bool(input(\"do you have voter_id\"))\n",
    "if age>=18:\n",
    "    if voter_id:\n",
    "        print(\"you can vote\")\n",
    "    else: \n",
    "        print(\"you need a votter id to vote\")\n",
    "else:\n",
    "   (\"you are minor\")"
   ]
  },
  {
   "cell_type": "code",
   "execution_count": 7,
   "id": "81e3abe3-2d1f-48a3-a9bd-50049a307227",
   "metadata": {},
   "outputs": [
    {
     "name": "stdin",
     "output_type": "stream",
     "text": [
      "Enter your age:  30\n",
      "Do you have a voter ID? (True/False):  False\n"
     ]
    },
    {
     "name": "stdout",
     "output_type": "stream",
     "text": [
      "You need a voter ID to vote.\n"
     ]
    }
   ],
   "source": [
    "age = int(input(\"Enter your age: \"))\n",
    "voter_id = input(\"Do you have a voter ID? (True/False): \").strip().capitalize()\n",
    "\n",
    "# Convert the string input to actual boolean\n",
    "if voter_id == \"True\":\n",
    "    voter_id = True\n",
    "else:\n",
    "    voter_id = False\n",
    "\n",
    "if age >= 18:\n",
    "    if voter_id:\n",
    "        print(\"You can vote.\")\n",
    "    else:\n",
    "        print(\"You need a voter ID to vote.\")\n",
    "else:\n",
    "    print(\"You are a minor.\")\n",
    "    "
   ]
  },
  {
   "cell_type": "code",
   "execution_count": null,
   "id": "e9f5f6dd-b952-48ed-abae-7ba0ba9282c1",
   "metadata": {},
   "outputs": [],
   "source": []
  }
 ],
 "metadata": {
  "kernelspec": {
   "display_name": "Python 3 (ipykernel)",
   "language": "python",
   "name": "python3"
  },
  "language_info": {
   "codemirror_mode": {
    "name": "ipython",
    "version": 3
   },
   "file_extension": ".py",
   "mimetype": "text/x-python",
   "name": "python",
   "nbconvert_exporter": "python",
   "pygments_lexer": "ipython3",
   "version": "3.13.5"
  }
 },
 "nbformat": 4,
 "nbformat_minor": 5
}
